{
 "cells": [
  {
   "cell_type": "code",
   "execution_count": 164,
   "metadata": {},
   "outputs": [],
   "source": [
    "import pandas as pd\n",
    "from sklearn.model_selection import train_test_split\n",
    "from sklearn.feature_extraction.text import TfidfVectorizer\n",
    "from sklearn.preprocessing import LabelEncoder\n",
    "from xgboost import XGBClassifier\n",
    "from sklearn.metrics import classification_report\n",
    "from sklearn.metrics import accuracy_score"
   ]
  },
  {
   "cell_type": "code",
   "execution_count": 165,
   "metadata": {},
   "outputs": [],
   "source": [
    "filePath = 'twitter_training.csv'\n",
    "data = pd.read_csv(filePath)"
   ]
  },
  {
   "cell_type": "code",
   "execution_count": 166,
   "metadata": {},
   "outputs": [
    {
     "data": {
      "text/plain": [
       "(array(['Positive', 'Neutral', 'Negative', 'Irrelevant'], dtype=object),\n",
       "    TweetID  Borderlands Sentiment  \\\n",
       " 0     2401  Borderlands  Positive   \n",
       " 1     2401  Borderlands  Positive   \n",
       " 2     2401  Borderlands  Positive   \n",
       " 3     2401  Borderlands  Positive   \n",
       " 4     2401  Borderlands  Positive   \n",
       " \n",
       "                                              Comment  \n",
       " 0  I am coming to the borders and I will kill you...  \n",
       " 1  im getting on borderlands and i will kill you ...  \n",
       " 2  im coming on borderlands and i will murder you...  \n",
       " 3  im getting on borderlands 2 and i will murder ...  \n",
       " 4  im getting into borderlands and i can murder y...  )"
      ]
     },
     "execution_count": 166,
     "metadata": {},
     "output_type": "execute_result"
    }
   ],
   "source": [
    "data.columns = ['TweetID', 'Borderlands', 'Sentiment', 'Comment']\n",
    "data.dropna(subset=['Comment'], inplace=True)\n",
    "\n",
    "uniqueSentiments = data['Sentiment'].unique()\n",
    "sampleData = data.head()\n",
    "\n",
    "uniqueSentiments, sampleData"
   ]
  },
  {
   "cell_type": "code",
   "execution_count": 167,
   "metadata": {},
   "outputs": [
    {
     "data": {
      "text/plain": [
       "((73995, 5000),\n",
       " (73995,),\n",
       " {'Irrelevant': 0, 'Negative': 1, 'Neutral': 2, 'Positive': 3})"
      ]
     },
     "execution_count": 167,
     "metadata": {},
     "output_type": "execute_result"
    }
   ],
   "source": [
    "data['Comment'] = data['Comment'].str.lower().str.replace('[^\\w\\s]', ' ')\n",
    "\n",
    "labelEncoder = LabelEncoder()\n",
    "data['Sentiment'] = labelEncoder.fit_transform(data['Sentiment'])\n",
    "\n",
    "tfidfVectorizer = TfidfVectorizer(max_features= 5000 ,stop_words='english')\n",
    "xTfidf = tfidfVectorizer.fit_transform(data['Comment'])\n",
    "y = data['Sentiment']\n",
    "\n",
    "xTfidf.shape, y.shape, dict(zip(labelEncoder.classes_, labelEncoder.transform(labelEncoder.classes_)))"
   ]
  },
  {
   "cell_type": "code",
   "execution_count": 168,
   "metadata": {},
   "outputs": [
    {
     "name": "stderr",
     "output_type": "stream",
     "text": [
      "/opt/anaconda3/lib/python3.11/site-packages/xgboost/core.py:158: UserWarning: [12:58:12] WARNING: /Users/runner/work/xgboost/xgboost/src/learner.cc:740: \n",
      "Parameters: { \"use_label_encoder\" } are not used.\n",
      "\n",
      "  warnings.warn(smsg, UserWarning)\n"
     ]
    },
    {
     "data": {
      "text/plain": [
       "'              precision    recall  f1-score   support\\n\\n  Irrelevant       0.75      0.36      0.48      2624\\n    Negative       0.58      0.84      0.69      4463\\n     Neutral       0.72      0.56      0.63      3589\\n    Positive       0.66      0.69      0.67      4123\\n\\n    accuracy                           0.64     14799\\n   macro avg       0.68      0.61      0.62     14799\\nweighted avg       0.67      0.64      0.63     14799\\n'"
      ]
     },
     "execution_count": 168,
     "metadata": {},
     "output_type": "execute_result"
    }
   ],
   "source": [
    "xTrain, xTest, yTrain, yTest = train_test_split(xTfidf, y, test_size=0.2, random_state=42)\n",
    "\n",
    "xgbModel = XGBClassifier(use_label_encoder = False, eval_metric = 'mlogloss')\n",
    "xgbModel.fit(xTrain, yTrain)\n",
    "\n",
    "yPred = xgbModel.predict(xTest)\n",
    "\n",
    "classificationReportData = classification_report(yTest, yPred, target_names = labelEncoder.classes_)\n",
    "classificationReportData"
   ]
  },
  {
   "cell_type": "code",
   "execution_count": 169,
   "metadata": {},
   "outputs": [
    {
     "name": "stdout",
     "output_type": "stream",
     "text": [
      "Accuracy of the model: 64.42%\n"
     ]
    }
   ],
   "source": [
    "accuracy = accuracy_score(yTest, yPred)\n",
    "\n",
    "print(\"Accuracy of the model: {:.2f}%\".format(accuracy * 100))"
   ]
  },
  {
   "cell_type": "code",
   "execution_count": 170,
   "metadata": {},
   "outputs": [],
   "source": [
    "def predictSentiment(text):\n",
    "    textInput = text.lower().replace('[^\\w\\s]', ' ')\n",
    "    textTfidf = tfidfVectorizer.transform([textInput])\n",
    "    prediction = xgbModel.predict(textTfidf)\n",
    "\n",
    "    sentimentLabel = labelEncoder.inverse_transform(prediction)[0]\n",
    "\n",
    "    return sentimentLabel"
   ]
  },
  {
   "cell_type": "code",
   "execution_count": 171,
   "metadata": {},
   "outputs": [],
   "source": [
    "positiveText = \"I really love this game! It's so exciting and well-made.\"\n",
    "negativeText = \"I am very disappointed with this game. It crashes frequently and lacks good content.\"\n",
    "neutralText = \"This game was released yesterday. It features standard gameplay mechanics.\"\n",
    "irrelevantText = \"It’s going to rain tomorrow. Better bring an umbrella!\""
   ]
  },
  {
   "cell_type": "code",
   "execution_count": 172,
   "metadata": {},
   "outputs": [
    {
     "name": "stdout",
     "output_type": "stream",
     "text": [
      "Predicted Sentiment [Positive]:  Positive\n",
      "Predicted Sentiment [Negative]:  Negative\n",
      "Predicted Sentiment [Neutral]:  Negative\n",
      "Predicted Sentiment [Irrelevant]:  Neutral\n"
     ]
    }
   ],
   "source": [
    "predictedPositiveSentiment = predictSentiment(positiveText)\n",
    "predictedNegativeSentiment = predictSentiment(negativeText)\n",
    "predictedNeutralSentiment = predictSentiment(neutralText)\n",
    "predictedIrrelevantSentiment = predictSentiment(irrelevantText)\n",
    "\n",
    "\n",
    "\n",
    "print(\"Predicted Sentiment [Positive]: \", predictedPositiveSentiment)\n",
    "print(\"Predicted Sentiment [Negative]: \", predictedNegativeSentiment)\n",
    "print(\"Predicted Sentiment [Neutral]: \", predictedNeutralSentiment)\n",
    "print(\"Predicted Sentiment [Irrelevant]: \", predictedIrrelevantSentiment)"
   ]
  }
 ],
 "metadata": {
  "kernelspec": {
   "display_name": "Python 3",
   "language": "python",
   "name": "python3"
  },
  "language_info": {
   "codemirror_mode": {
    "name": "ipython",
    "version": 3
   },
   "file_extension": ".py",
   "mimetype": "text/x-python",
   "name": "python",
   "nbconvert_exporter": "python",
   "pygments_lexer": "ipython3",
   "version": "3.11.7"
  }
 },
 "nbformat": 4,
 "nbformat_minor": 2
}
